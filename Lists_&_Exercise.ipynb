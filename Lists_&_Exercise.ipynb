{
 "cells": [
  {
   "cell_type": "markdown",
   "id": "5d15ff83",
   "metadata": {},
   "source": [
    "# Lists"
   ]
  },
  {
   "cell_type": "code",
   "execution_count": 1,
   "id": "76529290",
   "metadata": {},
   "outputs": [],
   "source": [
    "# Assign a list to an variable named my_first_list\n",
    "my_first_list = [4,3,2]"
   ]
  },
  {
   "cell_type": "markdown",
   "id": "2addc658",
   "metadata": {},
   "source": [
    "We just created a list which contains integer type values. A list can also contain different object types.For example:"
   ]
  },
  {
   "cell_type": "code",
   "execution_count": 2,
   "id": "206e8647",
   "metadata": {},
   "outputs": [],
   "source": [
    "my_first_list = [1,\"Ajinkya\",123.45]"
   ]
  },
  {
   "cell_type": "markdown",
   "id": "0287eb6e",
   "metadata": {},
   "source": [
    "Len() function can be used to count the number of items in the list"
   ]
  },
  {
   "cell_type": "code",
   "execution_count": 4,
   "id": "a1b8dc3b",
   "metadata": {},
   "outputs": [
    {
     "data": {
      "text/plain": [
       "3"
      ]
     },
     "execution_count": 4,
     "metadata": {},
     "output_type": "execute_result"
    }
   ],
   "source": [
    "len(my_first_list)"
   ]
  },
  {
   "cell_type": "markdown",
   "id": "8601728c",
   "metadata": {},
   "source": [
    "# Indexing and slicing\n",
    "You can slice and dice specific items using indexing."
   ]
  },
  {
   "cell_type": "code",
   "execution_count": 5,
   "id": "d9b3d539",
   "metadata": {},
   "outputs": [],
   "source": [
    "New_list = [\"USA\",65463567,34000.36,\"Ford\"]"
   ]
  },
  {
   "cell_type": "code",
   "execution_count": 6,
   "id": "f5d16781",
   "metadata": {},
   "outputs": [
    {
     "data": {
      "text/plain": [
       "'USA'"
      ]
     },
     "execution_count": 6,
     "metadata": {},
     "output_type": "execute_result"
    }
   ],
   "source": [
    "#Get element at index 0\n",
    "New_list[0]"
   ]
  },
  {
   "cell_type": "code",
   "execution_count": 7,
   "id": "debcfca9",
   "metadata": {},
   "outputs": [
    {
     "data": {
      "text/plain": [
       "[65463567, 34000.36, 'Ford']"
      ]
     },
     "execution_count": 7,
     "metadata": {},
     "output_type": "execute_result"
    }
   ],
   "source": [
    "#Get element at index 1 and everything ahead of it\n",
    "New_list[1:]"
   ]
  },
  {
   "cell_type": "code",
   "execution_count": 8,
   "id": "0c850998",
   "metadata": {},
   "outputs": [
    {
     "data": {
      "text/plain": [
       "['USA', 65463567, 34000.36]"
      ]
     },
     "execution_count": 8,
     "metadata": {},
     "output_type": "execute_result"
    }
   ],
   "source": [
    "#Get all elements until index 3\n",
    "New_list[:3]"
   ]
  },
  {
   "cell_type": "markdown",
   "id": "bb895354",
   "metadata": {},
   "source": [
    "# Different List methods"
   ]
  },
  {
   "cell_type": "markdown",
   "id": "651810ca",
   "metadata": {},
   "source": [
    "### Create a new list"
   ]
  },
  {
   "cell_type": "code",
   "execution_count": 11,
   "id": "de08d29c",
   "metadata": {},
   "outputs": [],
   "source": [
    "Employee_info = [\"Ajinkya\",\"USA\",654321789]"
   ]
  },
  {
   "cell_type": "markdown",
   "id": "651984a0",
   "metadata": {},
   "source": [
    "### Append a new item in the end of the list using append method"
   ]
  },
  {
   "cell_type": "code",
   "execution_count": 13,
   "id": "546dbbca",
   "metadata": {},
   "outputs": [],
   "source": [
    "Employee_info.append('Analytics specialist')"
   ]
  },
  {
   "cell_type": "code",
   "execution_count": 15,
   "id": "6e1cccd1",
   "metadata": {},
   "outputs": [
    {
     "data": {
      "text/plain": [
       "['Ajinkya', 'USA', 654321789, 'Analytics specialist', 'Analytics specialist']"
      ]
     },
     "execution_count": 15,
     "metadata": {},
     "output_type": "execute_result"
    }
   ],
   "source": [
    "#show list\n",
    "Employee_info"
   ]
  },
  {
   "cell_type": "markdown",
   "id": "8f8ad1d2",
   "metadata": {},
   "source": [
    "### Remove item from a specific index from the list using pop method"
   ]
  },
  {
   "cell_type": "code",
   "execution_count": 17,
   "id": "f819799b",
   "metadata": {},
   "outputs": [
    {
     "data": {
      "text/plain": [
       "'USA'"
      ]
     },
     "execution_count": 17,
     "metadata": {},
     "output_type": "execute_result"
    }
   ],
   "source": [
    "#remove item having index 1 from the list\n",
    "Employee_info.pop(1)"
   ]
  },
  {
   "cell_type": "code",
   "execution_count": 18,
   "id": "693d1611",
   "metadata": {},
   "outputs": [
    {
     "data": {
      "text/plain": [
       "['Ajinkya', 654321789, 'Analytics specialist', 'Analytics specialist']"
      ]
     },
     "execution_count": 18,
     "metadata": {},
     "output_type": "execute_result"
    }
   ],
   "source": [
    "#show list after removing the item\n",
    "Employee_info"
   ]
  },
  {
   "cell_type": "markdown",
   "id": "a2ec81b2",
   "metadata": {},
   "source": [
    "### Sort and reverse list items using sort and reverse method"
   ]
  },
  {
   "cell_type": "code",
   "execution_count": 19,
   "id": "39843a28",
   "metadata": {},
   "outputs": [],
   "source": [
    "# create two lists: numeric and alphabets\n",
    "numeric_list = [5,3,1,4]\n",
    "alphabets_list = [\"z\",\"y\",\"x\",\"w\",\"v\"]"
   ]
  },
  {
   "cell_type": "code",
   "execution_count": 21,
   "id": "b25f180e",
   "metadata": {},
   "outputs": [],
   "source": [
    "# sort the numeric_list\n",
    "numeric_list.sort()"
   ]
  },
  {
   "cell_type": "code",
   "execution_count": 22,
   "id": "3861c30b",
   "metadata": {},
   "outputs": [
    {
     "data": {
      "text/plain": [
       "[1, 3, 4, 5]"
      ]
     },
     "execution_count": 22,
     "metadata": {},
     "output_type": "execute_result"
    }
   ],
   "source": [
    "#show sorted numeric_list\n",
    "numeric_list"
   ]
  },
  {
   "cell_type": "code",
   "execution_count": 23,
   "id": "6cf987f7",
   "metadata": {},
   "outputs": [],
   "source": [
    "# Reverse the alphabets_list\n",
    "alphabets_list.reverse()"
   ]
  },
  {
   "cell_type": "code",
   "execution_count": 24,
   "id": "c13cb384",
   "metadata": {},
   "outputs": [
    {
     "data": {
      "text/plain": [
       "['v', 'w', 'x', 'y', 'z']"
      ]
     },
     "execution_count": 24,
     "metadata": {},
     "output_type": "execute_result"
    }
   ],
   "source": [
    "# show reveresed alphabets_list\n",
    "alphabets_list"
   ]
  },
  {
   "cell_type": "markdown",
   "id": "a7beaced",
   "metadata": {},
   "source": [
    "# Clear list content using the clear method "
   ]
  },
  {
   "cell_type": "code",
   "execution_count": 25,
   "id": "05c25d77",
   "metadata": {},
   "outputs": [],
   "source": [
    "#Clear the content of numeric_list\n",
    "numeric_list.clear()"
   ]
  },
  {
   "cell_type": "code",
   "execution_count": 27,
   "id": "116e3497",
   "metadata": {},
   "outputs": [
    {
     "data": {
      "text/plain": [
       "[]"
      ]
     },
     "execution_count": 27,
     "metadata": {},
     "output_type": "execute_result"
    }
   ],
   "source": [
    "#show empty numeric_list\n",
    "numeric_list"
   ]
  },
  {
   "cell_type": "markdown",
   "id": "0d859ab6",
   "metadata": {},
   "source": [
    "# Nested lists\n",
    "Python allows to add lists inside lists"
   ]
  },
  {
   "cell_type": "code",
   "execution_count": 32,
   "id": "9bf50444",
   "metadata": {},
   "outputs": [],
   "source": [
    "#create 3 sublists and then consolidate all sublists into a main list\n",
    "sublist_1 = [1,2,'a']\n",
    "sublist_2 = [3,4,'b']\n",
    "sublist_3 = [5,6,'c']\n",
    "\n",
    "main_list = [sublist_1,sublist_2,sublist_3]"
   ]
  },
  {
   "cell_type": "code",
   "execution_count": 33,
   "id": "7067e07a",
   "metadata": {},
   "outputs": [
    {
     "data": {
      "text/plain": [
       "[[1, 2, 'a'], [3, 4, 'b'], [5, 6, 'c']]"
      ]
     },
     "execution_count": 33,
     "metadata": {},
     "output_type": "execute_result"
    }
   ],
   "source": [
    "#show main_list\n",
    "main_list"
   ]
  },
  {
   "cell_type": "markdown",
   "id": "2cc114f4",
   "metadata": {},
   "source": [
    "Indexing can be used to access specific list"
   ]
  },
  {
   "cell_type": "code",
   "execution_count": 35,
   "id": "082e42c7",
   "metadata": {},
   "outputs": [
    {
     "data": {
      "text/plain": [
       "[1, 2, 'a']"
      ]
     },
     "execution_count": 35,
     "metadata": {},
     "output_type": "execute_result"
    }
   ],
   "source": [
    "#Get the first item/sublist_1 of the main_list using indexing\n",
    "main_list[0]"
   ]
  },
  {
   "cell_type": "code",
   "execution_count": 36,
   "id": "67313af5",
   "metadata": {},
   "outputs": [
    {
     "data": {
      "text/plain": [
       "4"
      ]
     },
     "execution_count": 36,
     "metadata": {},
     "output_type": "execute_result"
    }
   ],
   "source": [
    "#Get the second item of the sublist_2\n",
    "main_list[1][1]"
   ]
  },
  {
   "cell_type": "code",
   "execution_count": 37,
   "id": "844e744c",
   "metadata": {},
   "outputs": [
    {
     "data": {
      "text/plain": [
       "'c'"
      ]
     },
     "execution_count": 37,
     "metadata": {},
     "output_type": "execute_result"
    }
   ],
   "source": [
    "#Get the third item of the sublist_3\n",
    "main_list[2][2]"
   ]
  },
  {
   "cell_type": "code",
   "execution_count": null,
   "id": "336754e1",
   "metadata": {},
   "outputs": [],
   "source": []
  }
 ],
 "metadata": {
  "kernelspec": {
   "display_name": "Python 3 (ipykernel)",
   "language": "python",
   "name": "python3"
  },
  "language_info": {
   "codemirror_mode": {
    "name": "ipython",
    "version": 3
   },
   "file_extension": ".py",
   "mimetype": "text/x-python",
   "name": "python",
   "nbconvert_exporter": "python",
   "pygments_lexer": "ipython3",
   "version": "3.9.6"
  }
 },
 "nbformat": 4,
 "nbformat_minor": 5
}
